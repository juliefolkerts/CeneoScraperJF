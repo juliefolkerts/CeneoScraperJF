{
 "cells": [
  {
   "cell_type": "markdown",
   "metadata": {},
   "source": [
    "## Ceneo Analyzer"
   ]
  },
  {
   "cell_type": "markdown",
   "metadata": {},
   "source": [
    "## loading libraries"
   ]
  },
  {
   "cell_type": "code",
   "execution_count": 34,
   "metadata": {},
   "outputs": [],
   "source": [
    "import os\n",
    "import pandas as pd\n",
    "from matplotlib import pyplot as plt"
   ]
  },
  {
   "cell_type": "markdown",
   "metadata": {},
   "source": [
    "## Listing codes for all products for which opinions have been extracted"
   ]
  },
  {
   "cell_type": "code",
   "execution_count": 35,
   "metadata": {},
   "outputs": [
    {
     "name": "stdout",
     "output_type": "stream",
     "text": [
      "136115744\n"
     ]
    }
   ],
   "source": [
    "print(*[filename.split(\".\")[0] for filename in os.listdir(\"opinions\")], sep=\"\\n\")"
   ]
  },
  {
   "cell_type": "markdown",
   "metadata": {},
   "source": [
    "## specifying opinions about which product are to be analyzed"
   ]
  },
  {
   "cell_type": "code",
   "execution_count": 22,
   "metadata": {},
   "outputs": [],
   "source": [
    "product_id = input(\"Please provide Ceneo.pl product code: \")"
   ]
  },
  {
   "cell_type": "markdown",
   "metadata": {},
   "source": [
    "## Importing opinions from JSON file to pandas.DataFrame object "
   ]
  },
  {
   "cell_type": "code",
   "execution_count": 36,
   "metadata": {},
   "outputs": [],
   "source": [
    "opinions = pd.read_json (f'opinions/{product_id}.json')"
   ]
  },
  {
   "cell_type": "markdown",
   "metadata": {},
   "source": [
    "## Basic statistics"
   ]
  },
  {
   "cell_type": "code",
   "execution_count": 37,
   "metadata": {},
   "outputs": [],
   "source": [
    "MAX_SCORE =  5\n",
    "opinions_count = opinions.index.size\n",
    "pros_count = opinions.pros.apply(lambda p:None if not p else p).count()\n",
    "cons_count = opinions.cons.apply(lambda c:None if not c else c).count()\n",
    "average_score = opinions.score.mean()*MAX_SCORE"
   ]
  },
  {
   "cell_type": "markdown",
   "metadata": {},
   "source": [
    "## Basic charts "
   ]
  },
  {
   "cell_type": "markdown",
   "metadata": {},
   "source": [
    "### Score histogram"
   ]
  },
  {
   "cell_type": "code",
   "execution_count": 41,
   "metadata": {},
   "outputs": [
    {
     "data": {
      "text/plain": [
       "<Axes: xlabel='score'>"
      ]
     },
     "execution_count": 41,
     "metadata": {},
     "output_type": "execute_result"
    },
    {
     "data": {
      "image/png": "[encoded data removed]",
      "text/plain": [
       "<Figure size 640x480 with 1 Axes>"
      ]
     },
     "metadata": {},
     "output_type": "display_data"
    }
   ],
   "source": [
    "score_distribution =opinions.score.value_counts()\n",
    "score_distribution.plot.bar()"
   ]
  },
  {
   "cell_type": "code",
   "execution_count": 38,
   "metadata": {},
   "outputs": [
    {
     "data": {
      "text/plain": [
       "2.6500000000000004"
      ]
     },
     "execution_count": 38,
     "metadata": {},
     "output_type": "execute_result"
    }
   ],
   "source": [
    "average_score"
   ]
  },
  {
   "cell_type": "code",
   "execution_count": 39,
   "metadata": {},
   "outputs": [
    {
     "data": {
      "text/plain": [
       "0                                    None\n",
       "1                               [cheaply]\n",
       "2              [easy activation, cheaply]\n",
       "3    [probably original, latest, cheaply]\n",
       "4                                    None\n",
       "5                                    None\n",
       "6                                    None\n",
       "7                       [latest, cheaply]\n",
       "8                                    None\n",
       "9                                    None\n",
       "Name: pros, dtype: object"
      ]
     },
     "execution_count": 39,
     "metadata": {},
     "output_type": "execute_result"
    }
   ],
   "source": [
    "opinions.pros"
   ]
  },
  {
   "cell_type": "code",
   "execution_count": 40,
   "metadata": {},
   "outputs": [
    {
     "data": {
      "text/html": [
       "<div>\n",
       "<style scoped>\n",
       "    .dataframe tbody tr th:only-of-type {\n",
       "        vertical-align: middle;\n",
       "    }\n",
       "\n",
       "    .dataframe tbody tr th {\n",
       "        vertical-align: top;\n",
       "    }\n",
       "\n",
       "    .dataframe thead th {\n",
       "        text-align: right;\n",
       "    }\n",
       "</style>\n",
       "<table border=\"1\" class=\"dataframe\">\n",
       "  <thead>\n",
       "    <tr style=\"text-align: right;\">\n",
       "      <th></th>\n",
       "      <th>opinion_id</th>\n",
       "      <th>author</th>\n",
       "      <th>recommendation</th>\n",
       "      <th>score</th>\n",
       "      <th>content</th>\n",
       "      <th>pros</th>\n",
       "      <th>cons</th>\n",
       "      <th>helpful</th>\n",
       "      <th>unhelpful</th>\n",
       "      <th>publish_date</th>\n",
       "      <th>purchase_date</th>\n",
       "    </tr>\n",
       "  </thead>\n",
       "  <tbody>\n",
       "    <tr>\n",
       "      <th>0</th>\n",
       "      <td>16962353</td>\n",
       "      <td>l...i</td>\n",
       "      <td>1.0</td>\n",
       "      <td>1.0</td>\n",
       "      <td>Everything is OK, I had a problem with the ins...</td>\n",
       "      <td>None</td>\n",
       "      <td>None</td>\n",
       "      <td>3</td>\n",
       "      <td>8</td>\n",
       "      <td>2023-01-02 10:41:52</td>\n",
       "      <td>2022-12-28 10:17:31</td>\n",
       "    </tr>\n",
       "    <tr>\n",
       "      <th>1</th>\n",
       "      <td>18371950</td>\n",
       "      <td>a...t</td>\n",
       "      <td>1.0</td>\n",
       "      <td>1.0</td>\n",
       "      <td>good program :)</td>\n",
       "      <td>[cheaply]</td>\n",
       "      <td>None</td>\n",
       "      <td>0</td>\n",
       "      <td>0</td>\n",
       "      <td>2024-02-06 11:56:36</td>\n",
       "      <td>2024-01-23 12:16:42</td>\n",
       "    </tr>\n",
       "    <tr>\n",
       "      <th>2</th>\n",
       "      <td>18447761</td>\n",
       "      <td>x...3</td>\n",
       "      <td>1.0</td>\n",
       "      <td>1.0</td>\n",
       "      <td>I received an Office key, which basically work...</td>\n",
       "      <td>[easy activation, cheaply]</td>\n",
       "      <td>[phone activation difficult]</td>\n",
       "      <td>0</td>\n",
       "      <td>0</td>\n",
       "      <td>2024-02-29 08:31:01</td>\n",
       "      <td>2024-02-28 22:11:24</td>\n",
       "    </tr>\n",
       "    <tr>\n",
       "      <th>3</th>\n",
       "      <td>17273995</td>\n",
       "      <td>k...9</td>\n",
       "      <td>NaN</td>\n",
       "      <td>0.6</td>\n",
       "      <td>It seems cheap, but you download the disk driv...</td>\n",
       "      <td>[probably original, latest, cheaply]</td>\n",
       "      <td>[phone activation difficult, you download sus ...</td>\n",
       "      <td>4</td>\n",
       "      <td>1</td>\n",
       "      <td>2023-03-15 22:06:33</td>\n",
       "      <td>2023-03-06 21:32:12</td>\n",
       "    </tr>\n",
       "    <tr>\n",
       "      <th>4</th>\n",
       "      <td>16796369</td>\n",
       "      <td>k...5</td>\n",
       "      <td>1.0</td>\n",
       "      <td>1.0</td>\n",
       "      <td>Everything went perfectly and smoothly, but on...</td>\n",
       "      <td>None</td>\n",
       "      <td>None</td>\n",
       "      <td>4</td>\n",
       "      <td>10</td>\n",
       "      <td>2022-11-26 08:31:00</td>\n",
       "      <td>2022-10-05 13:33:06</td>\n",
       "    </tr>\n",
       "    <tr>\n",
       "      <th>5</th>\n",
       "      <td>17954672</td>\n",
       "      <td>z...1</td>\n",
       "      <td>0.0</td>\n",
       "      <td>0.1</td>\n",
       "      <td>Problem with telephone activation (according t...</td>\n",
       "      <td>None</td>\n",
       "      <td>None</td>\n",
       "      <td>5</td>\n",
       "      <td>0</td>\n",
       "      <td>2023-09-30 08:18:22</td>\n",
       "      <td>2023-09-15 22:27:56</td>\n",
       "    </tr>\n",
       "    <tr>\n",
       "      <th>6</th>\n",
       "      <td>17977033</td>\n",
       "      <td>d...1</td>\n",
       "      <td>0.0</td>\n",
       "      <td>0.2</td>\n",
       "      <td>The code doesn't work</td>\n",
       "      <td>None</td>\n",
       "      <td>None</td>\n",
       "      <td>5</td>\n",
       "      <td>0</td>\n",
       "      <td>2023-10-06 20:55:42</td>\n",
       "      <td>2023-09-02 21:05:16</td>\n",
       "    </tr>\n",
       "    <tr>\n",
       "      <th>7</th>\n",
       "      <td>18348720</td>\n",
       "      <td>m...a</td>\n",
       "      <td>0.0</td>\n",
       "      <td>0.1</td>\n",
       "      <td>key invalid</td>\n",
       "      <td>[latest, cheaply]</td>\n",
       "      <td>None</td>\n",
       "      <td>0</td>\n",
       "      <td>1</td>\n",
       "      <td>2024-01-30 08:07:26</td>\n",
       "      <td>2024-01-02 14:55:30</td>\n",
       "    </tr>\n",
       "    <tr>\n",
       "      <th>8</th>\n",
       "      <td>17539333</td>\n",
       "      <td>a...3</td>\n",
       "      <td>0.0</td>\n",
       "      <td>0.2</td>\n",
       "      <td>Avoid these *****. Wasted money which, despite...</td>\n",
       "      <td>None</td>\n",
       "      <td>[probably original, latest, cheaply, comfortable]</td>\n",
       "      <td>10</td>\n",
       "      <td>1</td>\n",
       "      <td>2023-05-23 21:36:38</td>\n",
       "      <td>2023-05-09 19:09:40</td>\n",
       "    </tr>\n",
       "    <tr>\n",
       "      <th>9</th>\n",
       "      <td>18142069</td>\n",
       "      <td>doink</td>\n",
       "      <td>0.0</td>\n",
       "      <td>0.1</td>\n",
       "      <td>Well, unfortunately it doesn't look good. I on...</td>\n",
       "      <td>None</td>\n",
       "      <td>None</td>\n",
       "      <td>4</td>\n",
       "      <td>0</td>\n",
       "      <td>2023-11-27 12:09:06</td>\n",
       "      <td>2023-10-29 20:28:47</td>\n",
       "    </tr>\n",
       "  </tbody>\n",
       "</table>\n",
       "</div>"
      ],
      "text/plain": [
       "   opinion_id author  recommendation  score  \\\n",
       "0    16962353  l...i             1.0    1.0   \n",
       "1    18371950  a...t             1.0    1.0   \n",
       "2    18447761  x...3             1.0    1.0   \n",
       "3    17273995  k...9             NaN    0.6   \n",
       "4    16796369  k...5             1.0    1.0   \n",
       "5    17954672  z...1             0.0    0.1   \n",
       "6    17977033  d...1             0.0    0.2   \n",
       "7    18348720  m...a             0.0    0.1   \n",
       "8    17539333  a...3             0.0    0.2   \n",
       "9    18142069  doink             0.0    0.1   \n",
       "\n",
       "                                             content  \\\n",
       "0  Everything is OK, I had a problem with the ins...   \n",
       "1                                    good program :)   \n",
       "2  I received an Office key, which basically work...   \n",
       "3  It seems cheap, but you download the disk driv...   \n",
       "4  Everything went perfectly and smoothly, but on...   \n",
       "5  Problem with telephone activation (according t...   \n",
       "6                              The code doesn't work   \n",
       "7                                        key invalid   \n",
       "8  Avoid these *****. Wasted money which, despite...   \n",
       "9  Well, unfortunately it doesn't look good. I on...   \n",
       "\n",
       "                                   pros  \\\n",
       "0                                  None   \n",
       "1                             [cheaply]   \n",
       "2            [easy activation, cheaply]   \n",
       "3  [probably original, latest, cheaply]   \n",
       "4                                  None   \n",
       "5                                  None   \n",
       "6                                  None   \n",
       "7                     [latest, cheaply]   \n",
       "8                                  None   \n",
       "9                                  None   \n",
       "\n",
       "                                                cons  helpful  unhelpful  \\\n",
       "0                                               None        3          8   \n",
       "1                                               None        0          0   \n",
       "2                       [phone activation difficult]        0          0   \n",
       "3  [phone activation difficult, you download sus ...        4          1   \n",
       "4                                               None        4         10   \n",
       "5                                               None        5          0   \n",
       "6                                               None        5          0   \n",
       "7                                               None        0          1   \n",
       "8  [probably original, latest, cheaply, comfortable]       10          1   \n",
       "9                                               None        4          0   \n",
       "\n",
       "          publish_date        purchase_date  \n",
       "0  2023-01-02 10:41:52  2022-12-28 10:17:31  \n",
       "1  2024-02-06 11:56:36  2024-01-23 12:16:42  \n",
       "2  2024-02-29 08:31:01  2024-02-28 22:11:24  \n",
       "3  2023-03-15 22:06:33  2023-03-06 21:32:12  \n",
       "4  2022-11-26 08:31:00  2022-10-05 13:33:06  \n",
       "5  2023-09-30 08:18:22  2023-09-15 22:27:56  \n",
       "6  2023-10-06 20:55:42  2023-09-02 21:05:16  \n",
       "7  2024-01-30 08:07:26  2024-01-02 14:55:30  \n",
       "8  2023-05-23 21:36:38  2023-05-09 19:09:40  \n",
       "9  2023-11-27 12:09:06  2023-10-29 20:28:47  "
      ]
     },
     "execution_count": 40,
     "metadata": {},
     "output_type": "execute_result"
    }
   ],
   "source": [
    "opinions"
   ]
  }
 ],
 "metadata": {
  "kernelspec": {
   "display_name": ".venv",
   "language": "python",
   "name": "python3"
  },
  "language_info": {
   "codemirror_mode": {
    "name": "ipython",
    "version": 3
   },
   "file_extension": ".py",
   "mimetype": "text/x-python",
   "name": "python",
   "nbconvert_exporter": "python",
   "pygments_lexer": "ipython3",
   "version": "3.11.4"
  }
 },
 "nbformat": 4,
 "nbformat_minor": 2
}
